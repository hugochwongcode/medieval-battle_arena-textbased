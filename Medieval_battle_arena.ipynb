{
  "nbformat": 4,
  "nbformat_minor": 0,
  "metadata": {
    "colab": {
      "provenance": []
    },
    "kernelspec": {
      "name": "python3",
      "display_name": "Python 3"
    },
    "language_info": {
      "name": "python"
    }
  },
  "cells": [
    {
      "cell_type": "code",
      "source": [
        "import time\n",
        "import random\n",
        "\n",
        "class Character:\n",
        "    def __init__(self, name, health, attack, defense, weapon):\n",
        "        self.name = name\n",
        "        self.health = health\n",
        "        self.attack = attack\n",
        "        self.defense = defense\n",
        "        self.weapon = weapon\n",
        "\n",
        "    def __str__(self):\n",
        "        return f\"{self.name}\\nHealth: {self.health}\\nAttack: {self.attack}\\nDefense: {self.defense}\\nWeapon: {self.weapon}\\n\"\n",
        "\n",
        "class BattleArena:\n",
        "    def __init__(self, name, difficulty):\n",
        "        self.name = name\n",
        "        self.difficulty = difficulty\n",
        "\n",
        "def countdown():\n",
        "    for i in range(3, 0, -1):\n",
        "        print(i, end=' ', flush=True)  # Print in the same line\n",
        "        time.sleep(1)\n",
        "    print(\"Fight!\")\n",
        "    time.sleep(1)\n",
        "\n",
        "def choose_character(characters):\n",
        "    while True:\n",
        "        print(\"Choose your character:\")\n",
        "        for idx, character in enumerate(characters, start=1):\n",
        "            print(f\"{idx}. {character}\")\n",
        "\n",
        "        choice = input(\"Enter the number of your choice: \")\n",
        "        if choice.isdigit():\n",
        "            choice = int(choice)\n",
        "            if 1 <= choice <= len(characters):\n",
        "                return characters[choice - 1]\n",
        "        print(\"Invalid choice. Please enter a number within the range.\")\n",
        "\n",
        "def simulate_battle(player_character, enemy_character):\n",
        "    while player_character.health > 0 and enemy_character.health > 0:\n",
        "        player_damage = max(player_character.attack - enemy_character.defense, 0)\n",
        "        enemy_damage = max(enemy_character.attack - player_character.defense, 0)\n",
        "\n",
        "        enemy_character.health -= player_damage\n",
        "        print(f\"You attack the enemy with your {player_character.weapon} for {player_damage} damage.\")\n",
        "        if enemy_character.health <= 0:\n",
        "            print(\"Congratulations! You emerge victorious!\")\n",
        "            break\n",
        "\n",
        "        player_character.health -= enemy_damage\n",
        "        print(f\"The enemy attacks you with their {enemy_character.weapon} for {enemy_damage} damage.\")\n",
        "        if player_character.health <= 0:\n",
        "            print(\"Good luck next time! You are defeated!\")\n",
        "            break\n",
        "\n",
        "def start_game():\n",
        "    characters = [\n",
        "        Character(\"Knight\", 100, 30, 60, \"Sword\"),\n",
        "        Character(\"Archer\", 80, 100, 55, \"Bow\"),\n",
        "        Character(\"Barbarian\", 120, 35, 10, \"Axe\")\n",
        "    ]\n",
        "\n",
        "    arenas = [\n",
        "        BattleArena(\"Colosseum\", \"Medium\"),\n",
        "        BattleArena(\"Forest Arena\", \"Hard\"),\n",
        "        BattleArena(\"Ruins Arena\", \"Easy\")\n",
        "    ]\n",
        "\n",
        "    player_character = choose_character(characters)\n",
        "    print(f\"You've chosen: {player_character.name}\")\n",
        "\n",
        "    arena = random.choice(arenas)\n",
        "    print(f\"You're entering the {arena.name} ({arena.difficulty} difficulty)!\")\n",
        "    countdown()\n",
        "\n",
        "    enemy_character = random.choice(characters)\n",
        "    print(f\"You encounter an enemy: {enemy_character.name}\")\n",
        "\n",
        "    simulate_battle(player_character, enemy_character)\n",
        "\n",
        "start_game()\n"
      ],
      "metadata": {
        "id": "rL3uK74RTuPu"
      },
      "execution_count": null,
      "outputs": []
    },
    {
      "cell_type": "code",
      "source": [],
      "metadata": {
        "id": "RthjnvwHT8Xd"
      },
      "execution_count": null,
      "outputs": []
    }
  ]
}